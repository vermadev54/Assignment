{
 "cells": [
  {
   "cell_type": "code",
   "execution_count": 2,
   "metadata": {
    "collapsed": true
   },
   "outputs": [],
   "source": [
    "import pandas as pd"
   ]
  },
  {
   "cell_type": "code",
   "execution_count": 7,
   "metadata": {
    "collapsed": true
   },
   "outputs": [],
   "source": [
    "import json\n",
    "with open('Downloads/datafile_example.json', 'r') as f:\n",
    "    data = json.load(f)\n",
    "data = pd.DataFrame([data])"
   ]
  },
  {
   "cell_type": "code",
   "execution_count": 8,
   "metadata": {},
   "outputs": [],
   "source": [
    "data =data.to_dict('dict')\n",
    "#x = data.get(\"/blog\")\n",
    "#print(data['/%22]'])\n",
    "values =[]\n",
    "tempvalues = list(data.values())\n",
    "for i in range(len(tempvalues)):\n",
    "    values.append(tempvalues[i][0])\n",
    "keys = list(data.keys())\n",
    "result = []\n",
    "dictionary = dict(zip(keys, values))"
   ]
  },
  {
   "cell_type": "code",
   "execution_count": 11,
   "metadata": {},
   "outputs": [
    {
     "name": "stdout",
     "output_type": "stream",
     "text": [
      "A D\n",
      "C\n",
      "B\n",
      "None\n",
      "C B\n",
      "None\n",
      "D C\n",
      "B\n",
      "None\n",
      "E F\n",
      "None\n"
     ]
    },
    {
     "data": {
      "text/plain": [
       "['B', 'B', 'B', 'F', 'B', 'B', 'B', 'F']"
      ]
     },
     "execution_count": 11,
     "metadata": {},
     "output_type": "execute_result"
    }
   ],
   "source": [
    "def transitive(dictionary):\n",
    "    for key, value in dictionary.items():\n",
    "        print(key, value)\n",
    "        tempvalue = value\n",
    "        name=tempvalue\n",
    "        #print (name)\n",
    "        while(tempvalue):\n",
    "            tempvalue = dictionary.get(tempvalue)\n",
    "            print(tempvalue)\n",
    "            if(tempvalue):\n",
    "                name = tempvalue\n",
    "        result.append(name)\n",
    "           \n",
    "transitive(dictionary)\n",
    "result"
   ]
  },
  {
   "cell_type": "code",
   "execution_count": 12,
   "metadata": {},
   "outputs": [
    {
     "data": {
      "text/plain": [
       "{'A': 'B', 'C': 'B', 'D': 'B', 'E': 'F'}"
      ]
     },
     "execution_count": 12,
     "metadata": {},
     "output_type": "execute_result"
    }
   ],
   "source": [
    "dictionary_out = dict(zip(keys, result))\n",
    "dictionary_out"
   ]
  },
  {
   "cell_type": "code",
   "execution_count": null,
   "metadata": {
    "collapsed": true
   },
   "outputs": [],
   "source": []
  }
 ],
 "metadata": {
  "kernelspec": {
   "display_name": "Python 3",
   "language": "python",
   "name": "python3"
  },
  "language_info": {
   "codemirror_mode": {
    "name": "ipython",
    "version": 3
   },
   "file_extension": ".py",
   "mimetype": "text/x-python",
   "name": "python",
   "nbconvert_exporter": "python",
   "pygments_lexer": "ipython3",
   "version": "3.6.3"
  }
 },
 "nbformat": 4,
 "nbformat_minor": 2
}
